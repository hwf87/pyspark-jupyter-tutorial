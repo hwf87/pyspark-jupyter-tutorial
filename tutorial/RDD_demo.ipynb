{
 "cells": [
  {
   "cell_type": "code",
   "execution_count": 1,
   "id": "7a40b577-91f0-488c-aad8-6573df56e19b",
   "metadata": {},
   "outputs": [],
   "source": [
    "from pyspark import SparkContext, SparkConf"
   ]
  },
  {
   "cell_type": "markdown",
   "id": "ebfa9ac0-8463-4b90-a433-978bed043728",
   "metadata": {},
   "source": [
    "# Initializing Spark"
   ]
  },
  {
   "cell_type": "code",
   "execution_count": 2,
   "id": "d47f387f-711e-48a2-955f-19cf9f61d01d",
   "metadata": {},
   "outputs": [],
   "source": [
    "AppName, Mode = \"RDD_DEMO\", \"local\"\n",
    "conf = SparkConf().setAppName(AppName).setMaster(Mode)\n",
    "sc = SparkContext(conf=conf)"
   ]
  },
  {
   "cell_type": "code",
   "execution_count": 8,
   "id": "52942376-9361-47ee-9b87-2bd474d30881",
   "metadata": {},
   "outputs": [
    {
     "name": "stdout",
     "output_type": "stream",
     "text": [
      "SparkContext: <SparkContext master=local appName=RDD_DEMO>\n"
     ]
    }
   ],
   "source": [
    "print(f\"SparkContext: {sc}\")"
   ]
  },
  {
   "cell_type": "markdown",
   "id": "39ab7f4d-b030-4134-afa7-a3a3e7c1eb1b",
   "metadata": {},
   "source": [
    "# Create RDD with Parallelized Collections"
   ]
  },
  {
   "cell_type": "code",
   "execution_count": 64,
   "id": "a94f03e3-8f01-4fb0-865b-d9d081f27de7",
   "metadata": {},
   "outputs": [
    {
     "name": "stdout",
     "output_type": "stream",
     "text": [
      "Type: <class 'pyspark.rdd.RDD'>, Data: [[1, 2, 3], [4, 5], [6], [7, 8, 9, 10]]\n"
     ]
    }
   ],
   "source": [
    "data = [\n",
    "    [1, 2, 3], \n",
    "    [4, 5],\n",
    "    [6],\n",
    "    [7, 8, 9, 10]\n",
    "]\n",
    "persist_data = sc.parallelize(data).persist()\n",
    "print(f\"Type: {type(persist_data)}, Data: {persist_data.collect()}\")"
   ]
  },
  {
   "cell_type": "markdown",
   "id": "477ffe14-7308-4def-a5d0-c53e5299e7e2",
   "metadata": {},
   "source": [
    "# RDD Operations"
   ]
  },
  {
   "cell_type": "code",
   "execution_count": 71,
   "id": "52e42edc-26d2-4c8a-ae2f-6dcce7d72672",
   "metadata": {},
   "outputs": [
    {
     "name": "stdout",
     "output_type": "stream",
     "text": [
      " first: [1, 2, 3]\n",
      " take: [[1, 2, 3], [4, 5]]\n",
      " count: 4\n",
      " collect: [[1, 2, 3], [4, 5], [6], [7, 8, 9, 10]]\n"
     ]
    }
   ],
   "source": [
    "# Basic Operation \n",
    "print(f\" first: {persist_data.first()}\")\n",
    "print(f\" take: {persist_data.take(2)}\")\n",
    "print(f\" count: {persist_data.count()}\")\n",
    "print(f\" collect: {persist_data.collect()}\")"
   ]
  },
  {
   "cell_type": "code",
   "execution_count": 73,
   "id": "9e7d4a38-8bff-4edf-99f1-f80242763928",
   "metadata": {},
   "outputs": [
    {
     "name": "stdout",
     "output_type": "stream",
     "text": [
      " PlusOne: [[2, 3, 4], [5, 6], [7], [8, 9, 10, 11]]\n"
     ]
    }
   ],
   "source": [
    "# Passing Functions to Spark with Lambda\n",
    "PlusOne = persist_data.map(lambda x: [i+1 for i in x])\n",
    "print(f\" PlusOne: {PlusOne.collect()}\")"
   ]
  },
  {
   "cell_type": "code",
   "execution_count": 80,
   "id": "a6273243-2002-47aa-9e83-d4a17f134b33",
   "metadata": {},
   "outputs": [
    {
     "name": "stdout",
     "output_type": "stream",
     "text": [
      " Result_1: [[2, 3, 4], [5, 6], [7], [8, 9, 10, 11]]\n",
      " Result_2: [[2, 3, 4], [5, 6], [7], [8, 9, 10, 11]]\n"
     ]
    }
   ],
   "source": [
    "# Passing Functions to Spark\n",
    "from typing import Optional, List\n",
    "\n",
    "def plusone(nums: List[int]) -> list:\n",
    "    return [i+1 for i in nums]    \n",
    "def minusone(nums: List[int]) -> list:\n",
    "    return [i-1 for i in nums]  \n",
    " \n",
    "result_1 = persist_data.map(plusone)\n",
    "result_2 = persist_data.map(plusone)\n",
    "print(f\" Result_1: {result_1.collect()}\")\n",
    "print(f\" Result_2: {result_2.collect()}\")"
   ]
  },
  {
   "cell_type": "code",
   "execution_count": 78,
   "id": "05b28750-ef79-4f6e-a13e-b2f81b9c4a30",
   "metadata": {},
   "outputs": [
    {
     "data": {
      "text/plain": [
       "<bound method MyComputer.plusone of <__main__.MyComputer object at 0xffff6184bdc0>>"
      ]
     },
     "execution_count": 78,
     "metadata": {},
     "output_type": "execute_result"
    }
   ],
   "source": [
    "# class MyComputer:\n",
    "#     def plusone(nums: List[int]) -> list:\n",
    "#         return [i+1 for i in nums]\n",
    "#     def minusone(nums: List[int]) -> list:\n",
    "#         return [i-1 for i in nums]"
   ]
  },
  {
   "cell_type": "code",
   "execution_count": null,
   "id": "cda93dfd-d9de-47ef-ac9a-c42bba86625a",
   "metadata": {},
   "outputs": [],
   "source": []
  }
 ],
 "metadata": {
  "kernelspec": {
   "display_name": "Python 3 (ipykernel)",
   "language": "python",
   "name": "python3"
  },
  "language_info": {
   "codemirror_mode": {
    "name": "ipython",
    "version": 3
   },
   "file_extension": ".py",
   "mimetype": "text/x-python",
   "name": "python",
   "nbconvert_exporter": "python",
   "pygments_lexer": "ipython3",
   "version": "3.10.8"
  }
 },
 "nbformat": 4,
 "nbformat_minor": 5
}
